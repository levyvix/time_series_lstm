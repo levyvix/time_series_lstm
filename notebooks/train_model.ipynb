{
 "cells": [
  {
   "cell_type": "code",
   "execution_count": 26,
   "metadata": {},
   "outputs": [],
   "source": [
    "import pandas as pd\n",
    "from sklearn import model_selection, metrics\n",
    "\n",
    "import plotly.express as px\n",
    "from datetime import timedelta"
   ]
  },
  {
   "cell_type": "code",
   "execution_count": 32,
   "metadata": {},
   "outputs": [],
   "source": [
    "data = pd.read_csv(\"../data/MSFT.csv\")\n",
    "data['Date'] = pd.to_datetime(data['Date'])"
   ]
  },
  {
   "cell_type": "code",
   "execution_count": 35,
   "metadata": {},
   "outputs": [],
   "source": [
    "data = data.set_index(\"Date\")"
   ]
  },
  {
   "cell_type": "code",
   "execution_count": 37,
   "metadata": {},
   "outputs": [],
   "source": [
    "last_date = data.index[-1]\n",
    "\n",
    "# Create a 2-week offset\n",
    "offset = timedelta(weeks=2)\n",
    "\n",
    "# Get the test set\n",
    "test_set = data[last_date-offset:]\n",
    "\n",
    "# Get the train set\n",
    "train_set = data[:last_date-offset]"
   ]
  },
  {
   "cell_type": "code",
   "execution_count": 41,
   "metadata": {},
   "outputs": [],
   "source": [
    "X_train = train_set[[\"Open\", \"High\", \"Low\"]]\n",
    "y_train = train_set[\"Close\"]\n",
    "y_train = y_train.values.reshape(-1, 1)\n",
    "\n",
    "X_test = test_set[[\"Open\", \"High\", \"Low\"]]\n",
    "y_test = test_set[\"Close\"]\n",
    "y_test = y_test.values.reshape(-1, 1)\n"
   ]
  },
  {
   "cell_type": "code",
   "execution_count": 42,
   "metadata": {},
   "outputs": [
    {
     "data": {
      "text/html": [
       "<div>\n",
       "<style scoped>\n",
       "    .dataframe tbody tr th:only-of-type {\n",
       "        vertical-align: middle;\n",
       "    }\n",
       "\n",
       "    .dataframe tbody tr th {\n",
       "        vertical-align: top;\n",
       "    }\n",
       "\n",
       "    .dataframe thead th {\n",
       "        text-align: right;\n",
       "    }\n",
       "</style>\n",
       "<table border=\"1\" class=\"dataframe\">\n",
       "  <thead>\n",
       "    <tr style=\"text-align: right;\">\n",
       "      <th></th>\n",
       "      <th>Open</th>\n",
       "      <th>High</th>\n",
       "      <th>Low</th>\n",
       "    </tr>\n",
       "    <tr>\n",
       "      <th>Date</th>\n",
       "      <th></th>\n",
       "      <th></th>\n",
       "      <th></th>\n",
       "    </tr>\n",
       "  </thead>\n",
       "  <tbody>\n",
       "    <tr>\n",
       "      <th>2009-05-07</th>\n",
       "      <td>19.959999</td>\n",
       "      <td>19.990000</td>\n",
       "      <td>19.139999</td>\n",
       "    </tr>\n",
       "    <tr>\n",
       "      <th>2009-05-08</th>\n",
       "      <td>19.459999</td>\n",
       "      <td>19.639999</td>\n",
       "      <td>19.139999</td>\n",
       "    </tr>\n",
       "    <tr>\n",
       "      <th>2009-05-11</th>\n",
       "      <td>19.200001</td>\n",
       "      <td>19.730000</td>\n",
       "      <td>19.010000</td>\n",
       "    </tr>\n",
       "    <tr>\n",
       "      <th>2009-05-12</th>\n",
       "      <td>19.510000</td>\n",
       "      <td>20.059999</td>\n",
       "      <td>19.469999</td>\n",
       "    </tr>\n",
       "    <tr>\n",
       "      <th>2009-05-13</th>\n",
       "      <td>19.920000</td>\n",
       "      <td>20.000000</td>\n",
       "      <td>19.670000</td>\n",
       "    </tr>\n",
       "    <tr>\n",
       "      <th>...</th>\n",
       "      <td>...</td>\n",
       "      <td>...</td>\n",
       "      <td>...</td>\n",
       "    </tr>\n",
       "    <tr>\n",
       "      <th>2022-12-23</th>\n",
       "      <td>236.110001</td>\n",
       "      <td>238.869995</td>\n",
       "      <td>233.940002</td>\n",
       "    </tr>\n",
       "    <tr>\n",
       "      <th>2022-12-27</th>\n",
       "      <td>238.699997</td>\n",
       "      <td>238.929993</td>\n",
       "      <td>235.830002</td>\n",
       "    </tr>\n",
       "    <tr>\n",
       "      <th>2022-12-28</th>\n",
       "      <td>236.889999</td>\n",
       "      <td>239.720001</td>\n",
       "      <td>234.169998</td>\n",
       "    </tr>\n",
       "    <tr>\n",
       "      <th>2022-12-29</th>\n",
       "      <td>235.649994</td>\n",
       "      <td>241.919998</td>\n",
       "      <td>235.649994</td>\n",
       "    </tr>\n",
       "    <tr>\n",
       "      <th>2022-12-30</th>\n",
       "      <td>238.210007</td>\n",
       "      <td>239.960007</td>\n",
       "      <td>236.660004</td>\n",
       "    </tr>\n",
       "  </tbody>\n",
       "</table>\n",
       "<p>3438 rows × 3 columns</p>\n",
       "</div>"
      ],
      "text/plain": [
       "                  Open        High         Low\n",
       "Date                                          \n",
       "2009-05-07   19.959999   19.990000   19.139999\n",
       "2009-05-08   19.459999   19.639999   19.139999\n",
       "2009-05-11   19.200001   19.730000   19.010000\n",
       "2009-05-12   19.510000   20.059999   19.469999\n",
       "2009-05-13   19.920000   20.000000   19.670000\n",
       "...                ...         ...         ...\n",
       "2022-12-23  236.110001  238.869995  233.940002\n",
       "2022-12-27  238.699997  238.929993  235.830002\n",
       "2022-12-28  236.889999  239.720001  234.169998\n",
       "2022-12-29  235.649994  241.919998  235.649994\n",
       "2022-12-30  238.210007  239.960007  236.660004\n",
       "\n",
       "[3438 rows x 3 columns]"
      ]
     },
     "execution_count": 42,
     "metadata": {},
     "output_type": "execute_result"
    }
   ],
   "source": [
    "X_train"
   ]
  },
  {
   "cell_type": "code",
   "execution_count": 50,
   "metadata": {},
   "outputs": [
    {
     "name": "stdout",
     "output_type": "stream",
     "text": [
      "Model: \"sequential_5\"\n",
      "_________________________________________________________________\n",
      " Layer (type)                Output Shape              Param #   \n",
      "=================================================================\n",
      " lstm_8 (LSTM)               (None, 3, 128)            66560     \n",
      "                                                                 \n",
      " lstm_9 (LSTM)               (None, 64)                49408     \n",
      "                                                                 \n",
      " dense_8 (Dense)             (None, 32)                2080      \n",
      "                                                                 \n",
      " dense_9 (Dense)             (None, 1)                 33        \n",
      "                                                                 \n",
      "=================================================================\n",
      "Total params: 118,081\n",
      "Trainable params: 118,081\n",
      "Non-trainable params: 0\n",
      "_________________________________________________________________\n"
     ]
    }
   ],
   "source": [
    "from tensorflow import keras\n",
    "from tensorflow.keras import Sequential\n",
    "from tensorflow.keras.layers import Dense, LSTM\n",
    "\n",
    "model = Sequential()\n",
    "model.add(LSTM(128, return_sequences=True, input_shape= (X_train.shape[1], 1)))\n",
    "model.add(LSTM(64, return_sequences=False))\n",
    "model.add(Dense(32),)\n",
    "model.add(Dense(1))\n",
    "model.summary()"
   ]
  },
  {
   "cell_type": "code",
   "execution_count": 46,
   "metadata": {},
   "outputs": [
    {
     "name": "stdout",
     "output_type": "stream",
     "text": [
      "Epoch 1/30\n",
      "76/76 [==============================] - 6s 25ms/step - loss: 2.1748 - root_mean_squared_error: 1.4747 - val_loss: 4425.0757 - val_root_mean_squared_error: 66.5212\n",
      "Epoch 2/30\n",
      "76/76 [==============================] - 1s 12ms/step - loss: 0.2415 - root_mean_squared_error: 0.4914 - val_loss: 4418.7847 - val_root_mean_squared_error: 66.4739\n",
      "Epoch 3/30\n",
      "76/76 [==============================] - 1s 12ms/step - loss: 0.2550 - root_mean_squared_error: 0.5050 - val_loss: 4411.6973 - val_root_mean_squared_error: 66.4206\n",
      "Epoch 4/30\n",
      "76/76 [==============================] - 1s 12ms/step - loss: 0.2649 - root_mean_squared_error: 0.5147 - val_loss: 4427.3042 - val_root_mean_squared_error: 66.5380\n",
      "Epoch 5/30\n",
      "76/76 [==============================] - 1s 12ms/step - loss: 0.3231 - root_mean_squared_error: 0.5684 - val_loss: 4436.7129 - val_root_mean_squared_error: 66.6087\n",
      "Epoch 6/30\n",
      "76/76 [==============================] - 1s 12ms/step - loss: 0.3667 - root_mean_squared_error: 0.6056 - val_loss: 4452.7505 - val_root_mean_squared_error: 66.7289\n",
      "Epoch 7/30\n",
      "76/76 [==============================] - 1s 12ms/step - loss: 0.3055 - root_mean_squared_error: 0.5527 - val_loss: 4468.7593 - val_root_mean_squared_error: 66.8488\n",
      "Epoch 7: early stopping\n"
     ]
    },
    {
     "data": {
      "text/plain": [
       "<keras.callbacks.History at 0x20b1ecd5eb0>"
      ]
     },
     "execution_count": 46,
     "metadata": {},
     "output_type": "execute_result"
    }
   ],
   "source": [
    "from keras.callbacks import EarlyStopping\n",
    "from keras.metrics import RootMeanSquaredError\n",
    "\n",
    "model.compile(optimizer='adam', loss='mean_squared_error', metrics=[RootMeanSquaredError()])\n",
    "model.fit(X_train, y_train, batch_size=32, epochs=30, validation_split=0.3,\n",
    "callbacks=EarlyStopping('root_mean_squared_error', 1e-6, 5, 1))"
   ]
  },
  {
   "cell_type": "code",
   "execution_count": 47,
   "metadata": {},
   "outputs": [
    {
     "name": "stdout",
     "output_type": "stream",
     "text": [
      "1/1 [==============================] - 0s 40ms/step - loss: 2450.6895 - root_mean_squared_error: 49.5044\n"
     ]
    }
   ],
   "source": [
    "# validade model\n",
    "\n",
    "test_loss, test_rmse = model.evaluate(X_test, y_test)"
   ]
  },
  {
   "cell_type": "code",
   "execution_count": 23,
   "metadata": {},
   "outputs": [
    {
     "name": "stdout",
     "output_type": "stream",
     "text": [
      "1/1 [==============================] - 1s 840ms/step\n"
     ]
    },
    {
     "data": {
      "text/plain": [
       "array([[177.5495]], dtype=float32)"
      ]
     },
     "execution_count": 23,
     "metadata": {},
     "output_type": "execute_result"
    }
   ],
   "source": [
    "# test_model\n",
    "\n",
    "import numpy as np\n",
    "#features = [Open, High, Low]\n",
    "features = np.array([[177.089996, 180.419998, 177.070007]])\n",
    "model.predict(features)"
   ]
  },
  {
   "cell_type": "code",
   "execution_count": null,
   "metadata": {},
   "outputs": [],
   "source": [
    "# plot test and prediction\n",
    "\n",
    "import numpy as np\n",
    "import plotly.express as px\n",
    "import plotly.graph_objects as go\n",
    "\n",
    "\n",
    "fig = go.Figure([\n",
    "    go.Scatter(x=X_train.squeeze(), y=y_train, name='train', mode='markers'),\n",
    "    go.Scatter(x=X_test.squeeze(), y=y_test, name='test', mode='markers'),\n",
    "    go.Scatter(x=x_range, y=y_range, name='prediction')\n",
    "])\n",
    "fig.show()"
   ]
  }
 ],
 "metadata": {
  "kernelspec": {
   "display_name": "tf2",
   "language": "python",
   "name": "python3"
  },
  "language_info": {
   "codemirror_mode": {
    "name": "ipython",
    "version": 3
   },
   "file_extension": ".py",
   "mimetype": "text/x-python",
   "name": "python",
   "nbconvert_exporter": "python",
   "pygments_lexer": "ipython3",
   "version": "3.9.15"
  },
  "orig_nbformat": 4,
  "vscode": {
   "interpreter": {
    "hash": "c394b73b62344de6585b1fbf0173cdea8a33e1dddaf0345fcb29b43abe6be766"
   }
  }
 },
 "nbformat": 4,
 "nbformat_minor": 2
}
