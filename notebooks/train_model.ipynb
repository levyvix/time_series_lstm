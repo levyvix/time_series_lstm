{
 "cells": [
  {
   "cell_type": "code",
   "execution_count": 1,
   "metadata": {},
   "outputs": [],
   "source": [
    "import numpy as np\n",
    "import pandas as pd\n",
    "\n",
    "import os\n",
    "import matplotlib.pyplot as plt\n",
    "import datetime\n",
    "\n",
    "from sklearn.preprocessing import MinMaxScaler\n",
    "\n",
    "from tensorflow.keras.models import Sequential\n",
    "from tensorflow.keras.layers import Dense, Dropout, LSTM\n",
    "from tensorflow.keras.callbacks import ModelCheckpoint, EarlyStopping"
   ]
  },
  {
   "cell_type": "code",
   "execution_count": 17,
   "metadata": {},
   "outputs": [],
   "source": [
    "data = pd.read_csv(\"../data/MSFT.csv\")\n",
    "data['Date'] = pd.to_datetime(data['Date'])\n",
    "data = data.set_index(\"Date\")\n",
    "# data = data.diff().dropna()"
   ]
  },
  {
   "cell_type": "code",
   "execution_count": 18,
   "metadata": {},
   "outputs": [],
   "source": [
    "# last_date = data.index[-1]\n",
    "\n",
    "# # Create a 2-week offset\n",
    "# offset = timedelta(weeks=2)\n",
    "\n",
    "# start = '2009-05-08'\n",
    "# end = last_date-offset\n",
    "\n",
    "# dataframe = data.copy()\n",
    "# dataframe = dataframe.loc[start:end, :]\n",
    "# dataframe"
   ]
  },
  {
   "cell_type": "code",
   "execution_count": 19,
   "metadata": {},
   "outputs": [],
   "source": [
    "def load_data(start, end=None):\n",
    "    last_date = data.index[-1]\n",
    "    offset = datetime.timedelta(weeks=2)\n",
    "\n",
    "    dataframe = data.copy()\n",
    "    if not end:\n",
    "        end = last_date-offset\n",
    "\n",
    "    dataframe = dataframe.loc[start:end, :]\n",
    "    return dataframe.rename(columns = {'Closing_Price': 'Close'})"
   ]
  },
  {
   "cell_type": "code",
   "execution_count": 20,
   "metadata": {},
   "outputs": [],
   "source": [
    "train_set = load_data('2009-05-08')"
   ]
  },
  {
   "cell_type": "code",
   "execution_count": 21,
   "metadata": {},
   "outputs": [],
   "source": [
    "# Normalize data\n",
    "scaler = MinMaxScaler(feature_range=(0,1))\n",
    "scaled_data = scaler.fit_transform(train_set['Close'].values.reshape(-1,1))\n",
    "\n",
    "# how many days do i want to base my predictions on ?\n",
    "prediction_days = 60\n",
    "\n",
    "x_train = []\n",
    "y_train = []\n",
    "\n",
    "for x in range(prediction_days, len(scaled_data)):\n",
    "    x_train.append(scaled_data[x - prediction_days:x, 0])\n",
    "    y_train.append(scaled_data[x, 0])\n",
    "    \n",
    "x_train, y_train = np.array(x_train), np.array(y_train)\n",
    "x_train = np.reshape(x_train, (x_train.shape[0], x_train.shape[1], 1))"
   ]
  },
  {
   "cell_type": "code",
   "execution_count": 22,
   "metadata": {},
   "outputs": [],
   "source": [
    "def LSTM_model():\n",
    "    \n",
    "    model = Sequential()\n",
    "    \n",
    "    model.add(LSTM(units = 50, return_sequences = True, input_shape = (x_train.shape[1],1)))\n",
    "    model.add(Dropout(0.2))\n",
    "\n",
    "    model.add(LSTM(units = 50, return_sequences = True))\n",
    "    model.add(Dropout(0.2))\n",
    "\n",
    "    model.add(LSTM(units = 50))\n",
    "    model.add(Dropout(0.2))\n",
    "    \n",
    "    model.add(Dense(units=1))\n",
    "    \n",
    "    return model"
   ]
  },
  {
   "cell_type": "code",
   "execution_count": 23,
   "metadata": {},
   "outputs": [
    {
     "name": "stdout",
     "output_type": "stream",
     "text": [
      "Model: \"sequential_1\"\n",
      "_________________________________________________________________\n",
      " Layer (type)                Output Shape              Param #   \n",
      "=================================================================\n",
      " lstm_3 (LSTM)               (None, 60, 50)            10400     \n",
      "                                                                 \n",
      " dropout_3 (Dropout)         (None, 60, 50)            0         \n",
      "                                                                 \n",
      " lstm_4 (LSTM)               (None, 60, 50)            20200     \n",
      "                                                                 \n",
      " dropout_4 (Dropout)         (None, 60, 50)            0         \n",
      "                                                                 \n",
      " lstm_5 (LSTM)               (None, 50)                20200     \n",
      "                                                                 \n",
      " dropout_5 (Dropout)         (None, 50)                0         \n",
      "                                                                 \n",
      " dense_1 (Dense)             (None, 1)                 51        \n",
      "                                                                 \n",
      "=================================================================\n",
      "Total params: 50,851\n",
      "Trainable params: 50,851\n",
      "Non-trainable params: 0\n",
      "_________________________________________________________________\n"
     ]
    }
   ],
   "source": [
    "from keras.callbacks import EarlyStopping\n",
    "from keras.metrics import RootMeanSquaredError\n",
    "\n",
    "model = LSTM_model()\n",
    "model.summary()\n",
    "model.compile(optimizer='adam', \n",
    "              loss='mean_squared_error')"
   ]
  },
  {
   "cell_type": "code",
   "execution_count": 24,
   "metadata": {},
   "outputs": [
    {
     "name": "stdout",
     "output_type": "stream",
     "text": [
      "Epoch 1/25\n",
      "85/85 [==============================] - ETA: 0s - loss: 0.0022\n",
      "Epoch 1: val_loss improved from inf to 0.00131, saving model to ../model\\weights_best.hdf5\n",
      "85/85 [==============================] - 9s 49ms/step - loss: 0.0022 - val_loss: 0.0013\n",
      "Epoch 2/25\n",
      "85/85 [==============================] - ETA: 0s - loss: 3.5596e-04\n",
      "Epoch 2: val_loss improved from 0.00131 to 0.00127, saving model to ../model\\weights_best.hdf5\n",
      "85/85 [==============================] - 3s 33ms/step - loss: 3.5596e-04 - val_loss: 0.0013\n",
      "Epoch 3/25\n",
      "85/85 [==============================] - ETA: 0s - loss: 3.7944e-04\n",
      "Epoch 3: val_loss did not improve from 0.00127\n",
      "85/85 [==============================] - 3s 31ms/step - loss: 3.7944e-04 - val_loss: 0.0018\n",
      "Epoch 4/25\n",
      "85/85 [==============================] - ETA: 0s - loss: 3.1648e-04\n",
      "Epoch 4: val_loss did not improve from 0.00127\n",
      "85/85 [==============================] - 3s 32ms/step - loss: 3.1648e-04 - val_loss: 0.0015\n",
      "Epoch 5/25\n",
      "85/85 [==============================] - ETA: 0s - loss: 3.0825e-04\n",
      "Epoch 5: val_loss did not improve from 0.00127\n",
      "85/85 [==============================] - 3s 31ms/step - loss: 3.0825e-04 - val_loss: 0.0014\n",
      "Epoch 6/25\n",
      "85/85 [==============================] - ETA: 0s - loss: 3.6186e-04\n",
      "Epoch 6: val_loss did not improve from 0.00127\n",
      "85/85 [==============================] - 3s 32ms/step - loss: 3.6186e-04 - val_loss: 0.0047\n",
      "Epoch 7/25\n",
      "85/85 [==============================] - ETA: 0s - loss: 3.3303e-04\n",
      "Epoch 7: val_loss did not improve from 0.00127\n",
      "85/85 [==============================] - 3s 32ms/step - loss: 3.3303e-04 - val_loss: 0.0022\n",
      "Epoch 8/25\n",
      "85/85 [==============================] - ETA: 0s - loss: 2.8835e-04\n",
      "Epoch 8: val_loss did not improve from 0.00127\n",
      "85/85 [==============================] - 3s 32ms/step - loss: 2.8835e-04 - val_loss: 0.0019\n",
      "Epoch 9/25\n",
      "85/85 [==============================] - ETA: 0s - loss: 2.8755e-04\n",
      "Epoch 9: val_loss improved from 0.00127 to 0.00095, saving model to ../model\\weights_best.hdf5\n",
      "85/85 [==============================] - 3s 32ms/step - loss: 2.8755e-04 - val_loss: 9.5340e-04\n",
      "Epoch 10/25\n",
      "85/85 [==============================] - ETA: 0s - loss: 2.8561e-04\n",
      "Epoch 10: val_loss improved from 0.00095 to 0.00093, saving model to ../model\\weights_best.hdf5\n",
      "85/85 [==============================] - 3s 33ms/step - loss: 2.8561e-04 - val_loss: 9.3107e-04\n",
      "Epoch 11/25\n",
      "85/85 [==============================] - ETA: 0s - loss: 2.8382e-04\n",
      "Epoch 11: val_loss did not improve from 0.00093\n",
      "85/85 [==============================] - 3s 32ms/step - loss: 2.8382e-04 - val_loss: 0.0025\n",
      "Epoch 12/25\n",
      "85/85 [==============================] - ETA: 0s - loss: 2.5314e-04\n",
      "Epoch 12: val_loss did not improve from 0.00093\n",
      "85/85 [==============================] - 3s 32ms/step - loss: 2.5314e-04 - val_loss: 0.0051\n",
      "Epoch 13/25\n",
      "85/85 [==============================] - ETA: 0s - loss: 1.8848e-04\n",
      "Epoch 13: val_loss did not improve from 0.00093\n",
      "85/85 [==============================] - 3s 31ms/step - loss: 1.8848e-04 - val_loss: 0.0015\n",
      "Epoch 14/25\n",
      "85/85 [==============================] - ETA: 0s - loss: 2.3955e-04\n",
      "Epoch 14: val_loss did not improve from 0.00093\n",
      "85/85 [==============================] - 3s 31ms/step - loss: 2.3955e-04 - val_loss: 0.0040\n",
      "Epoch 15/25\n",
      "85/85 [==============================] - ETA: 0s - loss: 2.4644e-04\n",
      "Epoch 15: val_loss did not improve from 0.00093\n",
      "85/85 [==============================] - 3s 31ms/step - loss: 2.4644e-04 - val_loss: 0.0042\n",
      "Epoch 16/25\n",
      "85/85 [==============================] - ETA: 0s - loss: 2.1072e-04\n",
      "Epoch 16: val_loss did not improve from 0.00093\n",
      "85/85 [==============================] - 3s 31ms/step - loss: 2.1072e-04 - val_loss: 0.0011\n",
      "Epoch 17/25\n",
      "85/85 [==============================] - ETA: 0s - loss: 2.7639e-04\n",
      "Epoch 17: val_loss did not improve from 0.00093\n",
      "85/85 [==============================] - 3s 31ms/step - loss: 2.7639e-04 - val_loss: 0.0019\n",
      "Epoch 18/25\n",
      "85/85 [==============================] - ETA: 0s - loss: 1.8459e-04\n",
      "Epoch 18: val_loss did not improve from 0.00093\n",
      "85/85 [==============================] - 3s 32ms/step - loss: 1.8459e-04 - val_loss: 0.0046\n",
      "Epoch 19/25\n",
      "85/85 [==============================] - ETA: 0s - loss: 1.9015e-04\n",
      "Epoch 19: val_loss did not improve from 0.00093\n",
      "85/85 [==============================] - 3s 32ms/step - loss: 1.9015e-04 - val_loss: 0.0040\n",
      "Epoch 20/25\n",
      "85/85 [==============================] - ETA: 0s - loss: 2.0195e-04\n",
      "Epoch 20: val_loss did not improve from 0.00093\n",
      "85/85 [==============================] - 3s 34ms/step - loss: 2.0195e-04 - val_loss: 0.0021\n",
      "Epoch 21/25\n",
      "85/85 [==============================] - ETA: 0s - loss: 1.6981e-04\n",
      "Epoch 21: val_loss did not improve from 0.00093\n",
      "85/85 [==============================] - 3s 34ms/step - loss: 1.6981e-04 - val_loss: 0.0013\n",
      "Epoch 22/25\n",
      "85/85 [==============================] - ETA: 0s - loss: 2.0517e-04\n",
      "Epoch 22: val_loss did not improve from 0.00093\n",
      "85/85 [==============================] - 3s 32ms/step - loss: 2.0517e-04 - val_loss: 0.0030\n",
      "Epoch 23/25\n",
      "85/85 [==============================] - ETA: 0s - loss: 1.8021e-04\n",
      "Epoch 23: val_loss improved from 0.00093 to 0.00078, saving model to ../model\\weights_best.hdf5\n",
      "85/85 [==============================] - 3s 35ms/step - loss: 1.8021e-04 - val_loss: 7.8275e-04\n",
      "Epoch 24/25\n",
      "85/85 [==============================] - ETA: 0s - loss: 1.7030e-04\n",
      "Epoch 24: val_loss did not improve from 0.00078\n",
      "85/85 [==============================] - 3s 32ms/step - loss: 1.7030e-04 - val_loss: 8.8148e-04\n",
      "Epoch 25/25\n",
      "85/85 [==============================] - ETA: 0s - loss: 1.9782e-04\n",
      "Epoch 25: val_loss did not improve from 0.00078\n",
      "85/85 [==============================] - 3s 32ms/step - loss: 1.9782e-04 - val_loss: 9.9740e-04\n"
     ]
    }
   ],
   "source": [
    "checkpointer = ModelCheckpoint(filepath = '../model/weights_best.hdf5', \n",
    "                               verbose = 1, \n",
    "                               save_best_only = True)\n",
    "\n",
    "\n",
    "history = model.fit(x_train,\n",
    "          y_train, \n",
    "          validation_split=0.3,\n",
    "          epochs=25, \n",
    "          batch_size = 32,\n",
    "          callbacks = [checkpointer])"
   ]
  },
  {
   "cell_type": "code",
   "execution_count": 25,
   "metadata": {},
   "outputs": [
    {
     "name": "stdout",
     "output_type": "stream",
     "text": [
      "1/1 [==============================] - 1s 1s/step\n"
     ]
    }
   ],
   "source": [
    "last_date = data.index[-1]\n",
    "offset = datetime.timedelta(weeks=2)\n",
    "\n",
    "test_data = load_data(start = last_date - offset,\n",
    "                      end = last_date)\n",
    "\n",
    "actual_prices = test_data['Close'].values\n",
    "\n",
    "total_dataset = pd.concat((data['Close'], test_data['Close']), axis=0)\n",
    "\n",
    "model_inputs = total_dataset[len(total_dataset) - len(test_data) - prediction_days:].values\n",
    "model_inputs = model_inputs.reshape(-1,1)\n",
    "model_inputs = scaler.transform(model_inputs)\n",
    "\n",
    "x_test = [\n",
    "    model_inputs[x - prediction_days : x, 0]\n",
    "    for x in range(prediction_days, len(model_inputs))\n",
    "]\n",
    "x_test = np.array(x_test)\n",
    "x_test = np.reshape(x_test, (x_test.shape[0], x_test.shape[1] ,1))\n",
    "\n",
    "predicted_prices = model.predict(x_test)\n",
    "predicted_prices = scaler.inverse_transform(predicted_prices)"
   ]
  },
  {
   "cell_type": "code",
   "execution_count": 26,
   "metadata": {},
   "outputs": [
    {
     "data": {
      "text/plain": [
       "array([[228.38374],\n",
       "       [229.74237],\n",
       "       [231.45415],\n",
       "       [232.78275],\n",
       "       [233.17729],\n",
       "       [232.69734],\n",
       "       [231.62863],\n",
       "       [230.34798],\n",
       "       [229.3925 ],\n",
       "       [229.07668]], dtype=float32)"
      ]
     },
     "execution_count": 26,
     "metadata": {},
     "output_type": "execute_result"
    }
   ],
   "source": [
    "predicted_prices"
   ]
  },
  {
   "cell_type": "code",
   "execution_count": 27,
   "metadata": {},
   "outputs": [
    {
     "data": {
      "image/png": "[encoded data removed]",
      "text/plain": [
       "<Figure size 640x480 with 1 Axes>"
      ]
     },
     "metadata": {},
     "output_type": "display_data"
    }
   ],
   "source": [
    "plt.plot(actual_prices, color='black', label=\"Actual price\")\n",
    "plt.plot(predicted_prices, color= 'green', label=\"predicted price\")\n",
    "# plt.title(f\"{COMPANY} share price\")\n",
    "plt.xlabel(\"time\")\n",
    "# plt.ylabel(f\"{COMPANY} share price\")\n",
    "plt.legend()\n",
    "plt.show()"
   ]
  },
  {
   "cell_type": "code",
   "execution_count": null,
   "metadata": {},
   "outputs": [],
   "source": []
  }
 ],
 "metadata": {
  "kernelspec": {
   "display_name": "Python 3 (ipykernel)",
   "language": "python",
   "name": "python3"
  },
  "language_info": {
   "codemirror_mode": {
    "name": "ipython",
    "version": 3
   },
   "file_extension": ".py",
   "mimetype": "text/x-python",
   "name": "python",
   "nbconvert_exporter": "python",
   "pygments_lexer": "ipython3",
   "version": "3.9.15"
  },
  "vscode": {
   "interpreter": {
    "hash": "c394b73b62344de6585b1fbf0173cdea8a33e1dddaf0345fcb29b43abe6be766"
   }
  }
 },
 "nbformat": 4,
 "nbformat_minor": 4
}
